{
 "cells": [
  {
   "cell_type": "markdown",
   "metadata": {},
   "source": [
    "# CARNIELLI Ariana n. 3525837"
   ]
  },
  {
   "cell_type": "markdown",
   "metadata": {},
   "source": [
    "# TME sur la classification de lettres manuscrites\n",
    "## Format des données\n",
    "Nous travaillerons sur des lettres manuscrites.\n",
    "Les données sont fournies au format pickle (le standard de sérialisation python, particulièrement convivial). Pour les charger : "
   ]
  },
  {
   "cell_type": "code",
   "execution_count": 1,
   "metadata": {
    "collapsed": true
   },
   "outputs": [],
   "source": [
    "import numpy as np\n",
    "import pickle as pkl\n",
    "import matplotlib.pyplot as plt\n",
    "\n",
    "with open('ressources/lettres.pkl', 'rb') as f:\n",
    "    data = pkl.load(f, encoding='latin1') \n",
    "X = np.array(data.get('letters')) # récupération des données sur les lettres\n",
    "Y = np.array(data.get('labels')) # récupération des étiquettes associées "
   ]
  },
  {
   "cell_type": "markdown",
   "metadata": {},
   "source": [
    "Les données sont dans un format original: une lettre est en fait une série d'angles (exprimés en degrés). Un exemple: "
   ]
  },
  {
   "cell_type": "code",
   "execution_count": 2,
   "metadata": {},
   "outputs": [
    {
     "data": {
      "text/plain": [
       "array([ 36.214493, 347.719116, 322.088898, 312.230957, 314.851013,\n",
       "       315.487213, 313.556702, 326.534973, 141.288971, 167.606689,\n",
       "       199.321594, 217.911087, 226.443298, 235.002472, 252.354492,\n",
       "       270.045654, 291.665161, 350.934723,  17.892815,  20.281025,\n",
       "        28.207161,  43.883423,  53.459026])"
      ]
     },
     "execution_count": 2,
     "metadata": {},
     "output_type": "execute_result"
    }
   ],
   "source": [
    "X[0]"
   ]
  },
  {
   "cell_type": "markdown",
   "metadata": {},
   "source": [
    "Lors de l'acquisition, un stylo intelligent a pris des mesures régulièrement dans le temps: chaque période correspond à un segment de droite et le stylo a calculé l'angle entre deux segments consécutifs... C'est l'information qui vous est fournie.\n",
    "\n",
    "Pour afficher une lettre, il faut reconstruire la trajectoire enregistrée... C'est ce que fait la méthode ci-dessous: "
   ]
  },
  {
   "cell_type": "code",
   "execution_count": 3,
   "metadata": {
    "collapsed": true
   },
   "outputs": [],
   "source": [
    "# affichage d'une lettre\n",
    "def tracerLettre(let):\n",
    "    a = -let*np.pi/180; # conversion en rad\n",
    "    coord = np.array([[0, 0]]); # point initial\n",
    "    for i in range(len(a)):\n",
    "        x = np.array([[1, 0]]);\n",
    "        rot = np.array([[np.cos(a[i]), -np.sin(a[i])],[ np.sin(a[i]),np.cos(a[i])]])\n",
    "        xr = x.dot(rot) # application de la rotation\n",
    "        coord = np.vstack((coord,xr+coord[-1,:]))\n",
    "    plt.figure()\n",
    "    plt.plot(coord[:,0],coord[:,1])\n",
    "    plt.show()\n",
    "    plt.savefig(\"exlettre.png\")\n",
    "    return"
   ]
  },
  {
   "cell_type": "code",
   "execution_count": 4,
   "metadata": {},
   "outputs": [
    {
     "data": {
      "image/png": "[encoded data removed]",
      "text/plain": [
       "<Figure size 432x288 with 1 Axes>"
      ]
     },
     "metadata": {},
     "output_type": "display_data"
    }
   ],
   "source": [
    "tracerLettre(X[0])"
   ]
  },
  {
   "cell_type": "markdown",
   "metadata": {},
   "source": [
    "##  Apprentissage d'un modèle CM (max de vraisemblance)\n",
    "### 1. Discrétisation\n",
    "\n",
    "**1 état = 1 angle**\n",
    "\n",
    "Il est nécessaire de regrouper les angles en un nombre fini d'états (par exemple 20)\n",
    "- définir un `intervalle = 360 / n_etats`\n",
    "- discrétiser tous les signaux à l'aide de la formule `np.floor(x / intervalle)`\n",
    "\n",
    "Donner le code de la méthode `discretise(x, d)` qui prend la base des signaux et retourne une base de signaux discrétisés."
   ]
  },
  {
   "cell_type": "code",
   "execution_count": 5,
   "metadata": {
    "collapsed": true
   },
   "outputs": [],
   "source": [
    "def discretise(X,nbEtats):\n",
    "    intervalle = 360 / nbEtats\n",
    "    res = np.empty(X.shape, dtype = X.dtype)\n",
    "    for i in range(X.size): \n",
    "        res[i] = np.floor(X[i]/intervalle)\n",
    "    return res"
   ]
  },
  {
   "cell_type": "markdown",
   "metadata": {},
   "source": [
    "**VALIDATION :** code du premier signal avec une discrétisation sur 3 états:\n",
    "```python\n",
    "array([ 0.,  2.,  2.,  2.,  2.,  2.,  2.,  2.,  1.,  1.,  1.,  1., 1., 1., 2., 2.,  2.,\n",
    "       2.,  0.,  0.,  0.,  0.,  0.])\n",
    "```"
   ]
  },
  {
   "cell_type": "code",
   "execution_count": 6,
   "metadata": {},
   "outputs": [
    {
     "name": "stdout",
     "output_type": "stream",
     "text": [
      "[0. 2. 2. 2. 2. 2. 2. 2. 1. 1. 1. 1. 1. 1. 2. 2. 2. 2. 0. 0. 0. 0. 0.]\n",
      "True\n"
     ]
    }
   ],
   "source": [
    "#On teste le résultat obtenu pour le premier signal \n",
    "#avec une discrétisation sur 3 états:\n",
    "\n",
    "nbEtats = 3\n",
    "X3Etats = discretise(X, nbEtats)\n",
    "print(X3Etats[0])\n",
    "print(np.allclose(X3Etats[0], [0., 2., 2., 2., 2., 2., 2., 2., 1., 1., 1., 1., \n",
    "                  1., 1., 2., 2., 2., 2., 0., 0., 0., 0., 0.]))\n",
    "    "
   ]
  },
  {
   "cell_type": "markdown",
   "metadata": {},
   "source": [
    "### 2. Regrouper les indices des signaux par classe (pour faciliter l'apprentissage)"
   ]
  },
  {
   "cell_type": "code",
   "execution_count": 7,
   "metadata": {
    "collapsed": true
   },
   "outputs": [],
   "source": [
    "def groupByLabel(y):\n",
    "    index = []\n",
    "    for i in np.unique(y): # pour toutes les classes\n",
    "        ind, = np.where(y == i)\n",
    "        index.append(ind)\n",
    "    return index"
   ]
  },
  {
   "cell_type": "markdown",
   "metadata": {},
   "source": [
    "Cette méthode produit simplement une structure type:\n",
    "```python\n",
    "[array([ 0,  1,  2,  3,  4,  5,  6,  7,  8,  9, 10]),\n",
    " array([11, 12, 13, 14, 15, 16, 17, 18, 19, 20, 21]),\n",
    " array([22, 23, 24, 25, 26, 27, 28, 29, 30, 31, 32]),\n",
    " array([33, 34, 35, 36, 37, 38, 39, 40, 41, 42, 43]),\n",
    " array([44, 45, 46, 47, 48, 49, 50, 51, 52, 53, 54]),\n",
    " array([55, 56, 57, 58, 59, 60, 61, 62, 63, 64, 65]),\n",
    " ...\n",
    "```\n",
    "Chaque ligne regroupe les indices de signaux correspondant à une classe "
   ]
  },
  {
   "cell_type": "code",
   "execution_count": 8,
   "metadata": {
    "collapsed": true
   },
   "outputs": [],
   "source": [
    "#groupement des signaux par classe\n",
    "\n",
    "index = groupByLabel(Y)"
   ]
  },
  {
   "cell_type": "markdown",
   "metadata": {},
   "source": [
    "### 3. Apprendre les modèles CM\n",
    "\n",
    "Soit {$X_C$} la base de signaux discrétisés correspondant à une classe {$C$} et {$d$} le nombre d'états. Donner le code de la fonction `learnMarkovModel(Xc, d)` qui retourne un tuple contenant Pi et A.\n",
    "\n",
    "Rappel:\n",
    "- Initialisation de \n",
    "```python\n",
    " A = np.zeros((d, d))\n",
    " Pi = np.zeros(d)```\n",
    "- Parcours de tous les signaux et incréments de A et Pi\n",
    "- Normalisation (un peu réfléchie pour éviter les divisions par 0)\n",
    "```python\n",
    "A = A / np.maximum(A.sum(1).reshape(d, 1), 1) # normalisation\n",
    "Pi = Pi / Pi.sum()```\n",
    "\n",
    "**Note** : la solution proposée pour gérer le cas des lignes entièrement à 0 est naïve et n'est pas totalement satisfaisante. Comprendre pourquoi. On proposera une solution améliorée plus loin dans le TME. "
   ]
  },
  {
   "cell_type": "code",
   "execution_count": 9,
   "metadata": {
    "collapsed": true
   },
   "outputs": [],
   "source": [
    "def learnMarkovModel(Xc, nbEtats):\n",
    "    A = np.zeros((nbEtats, nbEtats))\n",
    "    Pi = np.zeros(nbEtats)\n",
    "    \n",
    "    for x in Xc:\n",
    "        for i in range(x.size):\n",
    "            if i == 0:\n",
    "                Pi[int(x[i])] += 1\n",
    "            else:\n",
    "                ai = int(x[i - 1])\n",
    "                aj = int(x[i])\n",
    "                A[ai, aj] += 1\n",
    "    \n",
    "    A = A / np.maximum(A.sum(1).reshape(nbEtats, 1), 1) # normalisation\n",
    "    Pi = Pi / Pi.sum()\n",
    "    \n",
    "    return Pi, A"
   ]
  },
  {
   "cell_type": "markdown",
   "metadata": {},
   "source": [
    "**Validation :** premier modèle avec une discrétisation sur 3 états :\n",
    "```python\n",
    "(array([ 0.36363636,  0.        ,  0.63636364]),\n",
    " array([[ 0.84444444,  0.06666667,  0.08888889],\n",
    "       [ 0.        ,  0.83333333,  0.16666667],\n",
    "       [ 0.11382114,  0.06504065,  0.82113821]]))\n",
    "```"
   ]
  },
  {
   "cell_type": "code",
   "execution_count": 10,
   "metadata": {},
   "outputs": [
    {
     "name": "stdout",
     "output_type": "stream",
     "text": [
      "[0.36363636 0.         0.63636364]\n",
      "[[0.84444444 0.06666667 0.08888889]\n",
      " [0.         0.83333333 0.16666667]\n",
      " [0.11382114 0.06504065 0.82113821]]\n",
      "True\n",
      "True\n"
     ]
    }
   ],
   "source": [
    "#On teste le premier modèle avec une discrétisation sur 3 états:\n",
    "\n",
    "m1_3Etats = X3Etats[index[0]]\n",
    "Pi, A = learnMarkovModel(m1_3Etats, nbEtats)\n",
    "\n",
    "print(Pi)\n",
    "print(A)\n",
    "\n",
    "print(np.allclose(Pi, [ 0.36363636,  0.        ,  0.63636364]))\n",
    "print(np.allclose(A, [[ 0.84444444,  0.06666667,  0.08888889],\n",
    "                      [ 0.        ,  0.83333333,  0.16666667],\n",
    "                      [ 0.11382114,  0.06504065,  0.82113821]]))"
   ]
  },
  {
   "cell_type": "markdown",
   "metadata": {},
   "source": [
    "### 4. Stocker les modèles dans une liste\n",
    "\n",
    "Pour un usage ultérieur plus facile, on utilise le code suivant :"
   ]
  },
  {
   "cell_type": "code",
   "execution_count": 11,
   "metadata": {
    "collapsed": true
   },
   "outputs": [],
   "source": [
    "d = 20                   # paramètre de discrétisation\n",
    "Xd = discretise(X, d)    # application de la discrétisation\n",
    "index = groupByLabel(Y)  # groupement des signaux par classe\n",
    "models = []\n",
    "for cl in range(len(np.unique(Y))): # parcours de toutes les classes et optimisation des modèles\n",
    "    models.append(learnMarkovModel(Xd[index[cl]], d))"
   ]
  },
  {
   "cell_type": "markdown",
   "metadata": {},
   "source": [
    "##  Test (affectation dans les classes sur critère MV)\n",
    "### 1. (log)Probabilité d'une séquence dans un modèle\n",
    "\n",
    "Donner le code de la méthode `probaSequence(s,Pi,A)` qui retourne la log-probabilité d'une séquence `s` dans le modèle {$\\lambda=\\{Pi,A\\}$} "
   ]
  },
  {
   "cell_type": "code",
   "execution_count": 12,
   "metadata": {
    "collapsed": true
   },
   "outputs": [],
   "source": [
    "def probaSequence(s, Pi, A):\n",
    "    proba = 0\n",
    "    for i in range(s.size):\n",
    "        if i == 0:\n",
    "            proba += np.log(Pi[int(s[0])])\n",
    "        else:\n",
    "            ai = int(s[i - 1])\n",
    "            aj = int(s[i])\n",
    "            proba += np.log(A[ai, aj])\n",
    "    return proba"
   ]
  },
  {
   "cell_type": "code",
   "execution_count": 13,
   "metadata": {
    "collapsed": true
   },
   "outputs": [],
   "source": [
    "#on crée une fonction pour faciliter le calcul de la log-probabilité\n",
    "#d'une séquence par rapport à une ensemble de modèles : \n",
    "\n",
    "def probasSequence(s, modeles):\n",
    "    probas = np.zeros(len(modeles))\n",
    "    for i, (Pi, A) in enumerate(modeles):\n",
    "        probas[i] = probaSequence(s, Pi, A)\n",
    "    return probas"
   ]
  },
  {
   "cell_type": "markdown",
   "metadata": {},
   "source": [
    "**VALIDATION :** probabilité du premier signal dans les 26 modèles avec une discrétisation sur 3 états :\n",
    "```python\n",
    "array([-13.491086  ,         -inf,         -inf,         -inf,\n",
    "               -inf,         -inf,         -inf,         -inf,\n",
    "               -inf,         -inf,         -inf,         -inf,\n",
    "               -inf,         -inf,         -inf,         -inf,\n",
    "               -inf,         -inf,         -inf,         -inf,\n",
    "               -inf,         -inf,         -inf,         -inf,\n",
    "               -inf, -12.48285678])\n",
    "```\n",
    "\n",
    "- Ce signal est-il bien classé ?\n",
    "- D'où viennent tous les `-inf` ? "
   ]
  },
  {
   "cell_type": "code",
   "execution_count": 14,
   "metadata": {},
   "outputs": [
    {
     "name": "stdout",
     "output_type": "stream",
     "text": [
      "[-13.491086           -inf         -inf         -inf         -inf\n",
      "         -inf         -inf         -inf         -inf         -inf\n",
      "         -inf         -inf         -inf         -inf         -inf\n",
      "         -inf         -inf         -inf         -inf         -inf\n",
      "         -inf         -inf         -inf         -inf         -inf\n",
      " -12.48285678]\n",
      "True\n"
     ]
    },
    {
     "name": "stderr",
     "output_type": "stream",
     "text": [
      "C:\\Users\\arian\\Anaconda3\\lib\\site-packages\\ipykernel_launcher.py:5: RuntimeWarning: divide by zero encountered in log\n",
      "  \"\"\"\n",
      "C:\\Users\\arian\\Anaconda3\\lib\\site-packages\\ipykernel_launcher.py:9: RuntimeWarning: divide by zero encountered in log\n",
      "  if __name__ == '__main__':\n"
     ]
    }
   ],
   "source": [
    "#On crée 26 modèles à partir de la discrétisation à 3 états et\n",
    "#on calcule la log-vraisemblance du premier signal à ses 26 modèles\n",
    "#à l'aide d'une fonction auxiliaire\n",
    "\n",
    "model3 = []\n",
    "for cl in range(len(np.unique(Y))): # parcours de toutes les classes et optimisation des modèles\n",
    "    model3.append(learnMarkovModel(X3Etats[index[cl]], nbEtats))\n",
    "\n",
    "probas = probasSequence(X3Etats[0], model3)\n",
    "print(probas)\n",
    "print(np.allclose(probas, \n",
    "            [-13.491086  ,         -np.inf,         -np.inf,         -np.inf,\n",
    "           -np.inf,         -np.inf,         -np.inf,         -np.inf,\n",
    "           -np.inf,         -np.inf,         -np.inf,         -np.inf,\n",
    "           -np.inf,         -np.inf,         -np.inf,         -np.inf,\n",
    "           -np.inf,         -np.inf,         -np.inf,         -np.inf,\n",
    "           -np.inf,         -np.inf,         -np.inf,         -np.inf,\n",
    "           -np.inf, -12.48285678]))\n",
    "\n",
    "#on a un warning a cause du log(0) qui donne -inf."
   ]
  },
  {
   "cell_type": "markdown",
   "metadata": {},
   "source": [
    "Non, le signal n'est pas bien classé. Le signal correspond à une lettre \"a\" d'après Y mais en utilisant les modèles on le classerait comme une lettre \"z\" (la plus grande log-probabilité parmi les 26 calculées).\n",
    "\n",
    "Dans le calcul d'un modèle, on aura une probabilité 0 dans les matrices `A` ou `Pi` si un état initial ou une transition n'ont pas été observées dans les données utilisées pour calculer ce modèle. Ainsi, un signal qui a un de ces états initiaux ou présente une de ces transitions a une probabilité 0 d'être issu de ce modèle. Les `-inf` viennent ainsi des calculs de log(0) pour les modèles auquels le signal n'a aucun chance d'être classé."
   ]
  },
  {
   "cell_type": "markdown",
   "metadata": {},
   "source": [
    "### 2. Application de la méthode précédente pour tous les signaux et tous les modèles de lettres\n",
    "\n",
    "L'application se fait en une ligne de code si vous avez respecté les spécifications précédentes : "
   ]
  },
  {
   "cell_type": "code",
   "execution_count": 15,
   "metadata": {},
   "outputs": [
    {
     "name": "stderr",
     "output_type": "stream",
     "text": [
      "C:\\Users\\arian\\Anaconda3\\lib\\site-packages\\ipykernel_launcher.py:5: RuntimeWarning: divide by zero encountered in log\n",
      "  \"\"\"\n",
      "C:\\Users\\arian\\Anaconda3\\lib\\site-packages\\ipykernel_launcher.py:9: RuntimeWarning: divide by zero encountered in log\n",
      "  if __name__ == '__main__':\n"
     ]
    }
   ],
   "source": [
    "proba = np.array([[probaSequence(Xd[i], models[cl][0], models[cl][1]) for i in range(len(Xd))]\n",
    "                  for cl in range(len(np.unique(Y)))])\n",
    "\n",
    "#on peut aussi faire, avec la fonction auxiliaire \n",
    "#(mais ici on a les probabilités d'un signal dans une ligne \n",
    "#et pas dans une colonne):\n",
    "proba20 = np.array([probasSequence(Xd[i], models) for i in range (Xd.size)])"
   ]
  },
  {
   "cell_type": "markdown",
   "metadata": {},
   "source": [
    "### 3. Evaluation des performances\n",
    "\n",
    "Pour l'évaluation, nous proposons l'approche suivante: "
   ]
  },
  {
   "cell_type": "code",
   "execution_count": 16,
   "metadata": {},
   "outputs": [
    {
     "name": "stdout",
     "output_type": "stream",
     "text": [
      "Bonne classification pour nbEtats = 20 : 0.914179104477612\n",
      "Bonne classification pour nbEtats = 20 : 0.914179104477612\n",
      "Bonne classification pour nbEtats = 3 : 0.6902985074626866\n"
     ]
    },
    {
     "name": "stderr",
     "output_type": "stream",
     "text": [
      "C:\\Users\\arian\\Anaconda3\\lib\\site-packages\\ipykernel_launcher.py:5: RuntimeWarning: divide by zero encountered in log\n",
      "  \"\"\"\n",
      "C:\\Users\\arian\\Anaconda3\\lib\\site-packages\\ipykernel_launcher.py:9: RuntimeWarning: divide by zero encountered in log\n",
      "  if __name__ == '__main__':\n"
     ]
    }
   ],
   "source": [
    "# calcul d'une version numérique des Y :\n",
    "Ynum = np.zeros(Y.shape)\n",
    "for num, char in enumerate(np.unique(Y)):\n",
    "    Ynum[Y == char] = num\n",
    "    \n",
    "#pour nbEtats = 20\n",
    "\n",
    "# Calcul de la classe la plus probable :\n",
    "pred = proba.argmax(0) # max colonne par colonne\n",
    "pred20 = proba20.argmax(1) # max ligne par ligne\n",
    "\n",
    "# Calcul d'un pourcentage de bonne classification :\n",
    "print(\"Bonne classification pour nbEtats = 20 :\", np.where(pred != Ynum, 0.,1.).mean()) \n",
    "print(\"Bonne classification pour nbEtats = 20 :\", np.where(pred20 != Ynum, 0.,1.).mean()) #avec le méthode auxiliaire\n",
    "    \n",
    "#pour nbEtats = 3\n",
    "\n",
    "proba3 = np.array([probasSequence(X3Etats[i], model3) for i in range (X3Etats.size)])\n",
    "pred3 = proba3.argmax(1) # max ligne par ligne\n",
    "print(\"Bonne classification pour nbEtats = 3 :\", np.where(pred3 != Ynum, 0.,1.).mean())"
   ]
  },
  {
   "cell_type": "markdown",
   "metadata": {},
   "source": [
    "**INDICE DE PERFORMANCE :** 91% de bonne classification avec 20 états, 69% avec 3 états"
   ]
  },
  {
   "cell_type": "markdown",
   "metadata": {},
   "source": [
    "## Biais d'évaluation, notion de sur-apprentissage\n",
    "\n",
    "Dans le protocole précédent, nous avons triché:\n",
    "- les données servent d'abord à apprendre les modèles...\n",
    "- puis nous nous servons des mêmes données pour tester les modèles ! Les performances sont forcément bonnes ! \n",
    "\n",
    "Afin de palier le problème, nous allons diviser en deux la base de données: une partie servira à l'apprentissage des modèles, l'autre à leur évaluation. Pour effectuer la division, nous fournissons le code suivant: "
   ]
  },
  {
   "cell_type": "code",
   "execution_count": 17,
   "metadata": {
    "collapsed": true
   },
   "outputs": [],
   "source": [
    "# separation app/test, pc=ratio de points en apprentissage\n",
    "def separeTrainTest(y, pc):\n",
    "    indTrain = []\n",
    "    indTest = []\n",
    "    for i in np.unique(y): # pour toutes les classes\n",
    "        ind, = np.where(y == i)\n",
    "        n = len(ind)\n",
    "        indTrain.append(ind[np.random.permutation(n)][:int(np.floor(pc * n))])\n",
    "        indTest.append(np.setdiff1d(ind, indTrain[-1]))\n",
    "    return indTrain, indTest\n",
    "\n",
    "# exemple d'utilisation\n",
    "itrain, itest = separeTrainTest(Y, 0.8)"
   ]
  },
  {
   "cell_type": "markdown",
   "metadata": {},
   "source": [
    "dans `itrain`, nous obtenons les indices des signaux qui doivent servir en apprentissage pour chaque classe :"
   ]
  },
  {
   "cell_type": "code",
   "execution_count": 18,
   "metadata": {},
   "outputs": [
    {
     "data": {
      "text/plain": [
       "[array([9, 5, 2, 7, 0, 6, 3, 4], dtype=int64),\n",
       " array([17, 15, 14, 20, 18, 21, 13, 12], dtype=int64),\n",
       " array([23, 26, 28, 32, 29, 30, 27, 22], dtype=int64),\n",
       " array([37, 42, 35, 40, 36, 39, 41, 38], dtype=int64),\n",
       " array([52, 51, 54, 46, 48, 49, 44, 53], dtype=int64),\n",
       " array([56, 61, 60, 57, 63, 58, 55, 64], dtype=int64),\n",
       " array([72, 75, 74, 68, 70, 73, 76, 69], dtype=int64),\n",
       " array([78, 82, 84, 86, 81, 85, 79, 77], dtype=int64),\n",
       " array([97, 88, 89, 93, 94, 92, 91, 95], dtype=int64),\n",
       " array([103, 100, 102, 106, 105, 107, 101,  98], dtype=int64),\n",
       " array([108, 112, 116, 109, 117, 114, 110, 111], dtype=int64),\n",
       " array([123, 127, 121, 122, 126, 118, 119, 125], dtype=int64),\n",
       " array([130, 128, 129, 137, 133, 136, 131, 134], dtype=int64),\n",
       " array([142, 146, 138, 139, 145, 144, 147, 140], dtype=int64),\n",
       " array([148, 155, 157, 156, 154, 151, 152, 150], dtype=int64),\n",
       " array([160, 166, 161, 162, 158, 164, 159, 167], dtype=int64),\n",
       " array([171, 177, 172, 175, 170, 176, 169, 173], dtype=int64),\n",
       " array([178, 187, 179, 182, 181, 183, 184, 180], dtype=int64),\n",
       " array([194, 191, 190, 195, 193, 189, 192, 197], dtype=int64),\n",
       " array([207, 200, 205, 204, 201, 198, 202, 199], dtype=int64),\n",
       " array([216, 208, 211, 212, 214, 217, 215, 213], dtype=int64),\n",
       " array([226, 218, 222, 219, 224, 225, 220, 223], dtype=int64),\n",
       " array([231, 230, 232, 229, 235, 228, 237, 234], dtype=int64),\n",
       " array([241, 240, 239, 243, 242, 244, 245, 238], dtype=int64),\n",
       " array([253, 250, 248, 256, 249, 254, 257, 252], dtype=int64),\n",
       " array([263, 259, 261, 265, 267, 258, 260, 266], dtype=int64)]"
      ]
     },
     "execution_count": 18,
     "metadata": {},
     "output_type": "execute_result"
    }
   ],
   "source": [
    "itrain"
   ]
  },
  {
   "cell_type": "markdown",
   "metadata": {},
   "source": [
    "**Note :** pour faciliter l'évaluation des modèles, vous aurez besoin de re-fusionner tous les indices d'apprentissage et de test. Cela se fait avec les lignes de code suivantes : "
   ]
  },
  {
   "cell_type": "code",
   "execution_count": 19,
   "metadata": {
    "collapsed": true
   },
   "outputs": [],
   "source": [
    "ia = []\n",
    "for i in itrain:\n",
    "    ia += i.tolist()    \n",
    "it = []\n",
    "for i in itest:\n",
    "    it += i.tolist()"
   ]
  },
  {
   "cell_type": "markdown",
   "metadata": {},
   "source": [
    "**Note 2 :** Du fait de la permutation aléatoire, les résultats vont bouger (un peu) à chaque execution du programme. "
   ]
  },
  {
   "cell_type": "markdown",
   "metadata": {},
   "source": [
    "## Questions importantes\n",
    "- Ré-utiliser les fonctions précédemment définies pour apprendre des modèles et les évaluer sans biais.\n",
    "- Calculer et analyser les résultats obtenus en apprentissage et en test\n",
    "- Etudier l'évolution des performances en fonction de la discrétisation"
   ]
  },
  {
   "cell_type": "code",
   "execution_count": 20,
   "metadata": {
    "collapsed": true
   },
   "outputs": [],
   "source": [
    "# On crée une fonction evalModel(X, Y, nbEtats, p, learn) qui calcule le taux de bonne classification\n",
    "# pour un nombre d'états donné, pour une ensemble d'apprentissage et une ensemble de test, \n",
    "# avec p = ratio de points dans l'ensemble d'apprentissage. Le paramètre facultatif learn sert à la prochaine question.\n",
    "\n",
    "def evalModel(X, Y, nbEtats, p, learn = learnMarkovModel):\n",
    "    itrain, itest = separeTrainTest(Y, p)\n",
    "    ia = []\n",
    "    for i in itrain:\n",
    "        ia += i.tolist()    \n",
    "    it = []\n",
    "    for i in itest:\n",
    "        it += i.tolist()\n",
    "\n",
    "    Xd = discretise(X, nbEtats)  # application de la discrétisation\n",
    "    model = []\n",
    "    for cl in range(len(np.unique(Y))): # parcours de toutes les classes et optimisation des modèles\n",
    "        model.append(learn(Xd[itrain[cl]], nbEtats))\n",
    "    \n",
    "    proba = np.array([probasSequence(Xd[i], model) for i in range(Xd.size)])\n",
    "    pred = proba.argmax(1) # max ligne par ligne\n",
    "    \n",
    "    Ynum = np.zeros(Y.shape)\n",
    "    for num, char in enumerate(np.unique(Y)):\n",
    "        Ynum[Y == char] = num\n",
    "    \n",
    "    tauxTrain = np.where(pred[ia] != Ynum[ia], 0.,1.).mean()\n",
    "    tauxTest = np.where(pred[it] != Ynum[it], 0.,1.).mean()\n",
    "    \n",
    "    return tauxTrain, tauxTest\n"
   ]
  },
  {
   "cell_type": "code",
   "execution_count": 21,
   "metadata": {},
   "outputs": [
    {
     "name": "stderr",
     "output_type": "stream",
     "text": [
      "C:\\Users\\arian\\Anaconda3\\lib\\site-packages\\ipykernel_launcher.py:5: RuntimeWarning: divide by zero encountered in log\n",
      "  \"\"\"\n",
      "C:\\Users\\arian\\Anaconda3\\lib\\site-packages\\ipykernel_launcher.py:9: RuntimeWarning: divide by zero encountered in log\n",
      "  if __name__ == '__main__':\n"
     ]
    },
    {
     "name": "stdout",
     "output_type": "stream",
     "text": [
      "Taux de bonne classification pour l'ensemble d'aprentissage, nbEtats = 20, pc = 0.8 :  0.9278846153846154\n",
      "Taux de bonne classification pour l'ensemble de test, nbEtats = 20, pc = 0.8 :  0.16666666666666666\n"
     ]
    }
   ],
   "source": [
    "# On calcule les taux de bonne classification pour nbEtats = 20, pc = 0.8 :\n",
    "tauxTrain20, tauxTest20 = evalModel(X, Y, 20, 0.8)\n",
    "print(\"Taux de bonne classification pour l'ensemble d'aprentissage, nbEtats = 20, pc = 0.8 : \", tauxTrain20)\n",
    "print(\"Taux de bonne classification pour l'ensemble de test, nbEtats = 20, pc = 0.8 : \", tauxTest20)"
   ]
  },
  {
   "cell_type": "code",
   "execution_count": 22,
   "metadata": {},
   "outputs": [
    {
     "name": "stderr",
     "output_type": "stream",
     "text": [
      "C:\\Users\\arian\\Anaconda3\\lib\\site-packages\\ipykernel_launcher.py:5: RuntimeWarning: divide by zero encountered in log\n",
      "  \"\"\"\n",
      "C:\\Users\\arian\\Anaconda3\\lib\\site-packages\\ipykernel_launcher.py:9: RuntimeWarning: divide by zero encountered in log\n",
      "  if __name__ == '__main__':\n"
     ]
    },
    {
     "data": {
      "text/plain": [
       "<Figure size 432x288 with 0 Axes>"
      ]
     },
     "metadata": {},
     "output_type": "display_data"
    },
    {
     "data": {
      "image/png": "[encoded data removed]",
      "text/plain": [
       "<Figure size 432x288 with 1 Axes>"
      ]
     },
     "metadata": {},
     "output_type": "display_data"
    }
   ],
   "source": [
    "#On test de l'évolution des performances en fonction de la discrétisation \n",
    "nbEtats = np.arange(3, 21)\n",
    "tauxTrain = np.zeros(nbEtats.size)\n",
    "tauxTest = np.zeros(nbEtats.size)\n",
    "for i, d in enumerate(nbEtats):\n",
    "    tauxTrain[i], tauxTest[i] = evalModel(X, Y, d, 0.8) \n",
    "fig, ax = plt.subplots()\n",
    "ax.grid(True)\n",
    "ax.plot(nbEtats, tauxTrain, label = \"Train\")\n",
    "ax.plot(nbEtats, tauxTest, label = \"Test\")\n",
    "ax.legend()\n",
    "ax.set_ylim((0,1))\n",
    "plt.show();"
   ]
  },
  {
   "cell_type": "markdown",
   "metadata": {},
   "source": [
    "On peut voir que plus on augmente le nombre d'états, pire la classification de l'ensemble de test devient. \n",
    "\n",
    "Cela arrive car avec une plus grande quantité d'états possibles on a une plus grande quantité de transitions avec probabilité = 0 et alors un signal qui pourra être classifié comme une lettre donnée ne le sera pas car une transition avec probabilité = 0 va ramener la vraisemblance du signal à cette lettre à 0. "
   ]
  },
  {
   "cell_type": "markdown",
   "metadata": {},
   "source": [
    "## Lutter contre le sur-apprentissage\n",
    "Cette base de données met en lumière le phénomène de sur-apprentissage : il y a peu de données et dès que le nombre d'états augmente, il y a trop peu d'exemple pour estimer correctement les matrices {$A, \\pi$}. De nombreuses cases sont donc à 0, voire des lignes entières (d'où la sécurisation du code pour la normalisation des matrices stochastiques).\n",
    "\n",
    "Ces 0 sont particulièrement discriminants: considérant la classe {$c$}, ils permettent d'éliminer de cette classe tout signal présentant cette caractéristique. Cette règle est trop forte compte tenu de la taille de la base d'apprentissage. Nous proposons une astuce pour palier cette faiblesse : lors du comptage, initialiser les matrices {$A, \\pi$} avec ones au lieu de zeros . On fait semblant d'avoir observer une transition de chaque type avant même le début du comptage.\n",
    "\n",
    "Comparer les performances en test."
   ]
  },
  {
   "cell_type": "code",
   "execution_count": 23,
   "metadata": {
    "collapsed": true
   },
   "outputs": [],
   "source": [
    "#On crée une nouvelle fonction pour calculer les modèles qui initialise chaque transition \n",
    "# avec un 1 pour qu'aucune probabilité soit a zero :\n",
    "\n",
    "def learnMarkovModelAmeliore(Xc, nbEtats):\n",
    "    A = np.ones((nbEtats, nbEtats))\n",
    "    Pi = np.ones(nbEtats)\n",
    "    \n",
    "    for x in Xc:\n",
    "        for i in range(x.size):\n",
    "            if i == 0:\n",
    "                Pi[int(x[i])] += 1\n",
    "            else:\n",
    "                ai = int(x[i - 1])\n",
    "                aj = int(x[i])\n",
    "                A[ai, aj] += 1\n",
    "    \n",
    "    A = A / np.maximum(A.sum(1).reshape(nbEtats, 1), 1) # normalisation\n",
    "    Pi = Pi / Pi.sum()\n",
    "    \n",
    "    return Pi, A"
   ]
  },
  {
   "cell_type": "code",
   "execution_count": 24,
   "metadata": {},
   "outputs": [
    {
     "name": "stdout",
     "output_type": "stream",
     "text": [
      "Taux de bonne classification pour l'ensemble d'aprentissage, nbEtats = 20, pc = 0.8 :  0.8365384615384616\n",
      "Taux de bonne classification pour l'ensemble de test, nbEtats = 20, pc = 0.8 :  0.5833333333333334\n"
     ]
    }
   ],
   "source": [
    "#On utilise la focntion evalModel avec la nouvelle fonction de calcul de modèles :\n",
    "\n",
    "tauxTrain20Ameliore, tauxTest20Ameliore = evalModel(X, Y, 20, 0.8, learnMarkovModelAmeliore)\n",
    "print(\"Taux de bonne classification pour l'ensemble d'aprentissage, nbEtats = 20, pc = 0.8 : \", tauxTrain20Ameliore)\n",
    "print(\"Taux de bonne classification pour l'ensemble de test, nbEtats = 20, pc = 0.8 : \", tauxTest20Ameliore)"
   ]
  },
  {
   "cell_type": "code",
   "execution_count": 25,
   "metadata": {},
   "outputs": [
    {
     "data": {
      "image/png": "[encoded data removed]",
      "text/plain": [
       "<Figure size 432x288 with 1 Axes>"
      ]
     },
     "metadata": {},
     "output_type": "display_data"
    }
   ],
   "source": [
    "#test de l'évolution des performances en fonction de la discrétisation \n",
    "nbEtats = np.arange(3, 21)\n",
    "tauxTrain = np.zeros(nbEtats.size)\n",
    "tauxTest = np.zeros(nbEtats.size)\n",
    "for i, d in enumerate(nbEtats):\n",
    "    tauxTrain[i], tauxTest[i] = evalModel(X, Y, d, 0.8, learnMarkovModelAmeliore) \n",
    "fig, ax = plt.subplots()\n",
    "ax.grid(True)\n",
    "ax.plot(nbEtats, tauxTrain, label = \"Train\")\n",
    "ax.plot(nbEtats, tauxTest, label = \"Test\")\n",
    "ax.legend()\n",
    "ax.set_ylim((0,1))\n",
    "plt.show();\n",
    "\n",
    "#on n'a plus de warnings de log(0) !"
   ]
  },
  {
   "cell_type": "markdown",
   "metadata": {},
   "source": [
    "On peut voir que le taux de bonne classification pour l'ensemble de test ne diminue plus quand on augmente la quantité d'etats possibles."
   ]
  },
  {
   "cell_type": "markdown",
   "metadata": {},
   "source": [
    "# Partie optionnelle\n",
    "## Evaluation qualitative\n",
    "\n",
    "Nous nous demandons maintenant où se trouvent les erreurs que nous avons commises...\n",
    "\n",
    "Calcul de la matrice de confusion: pour chaque échantillon de test, nous avons une prédiction (issue du modèle) et une vérité terrain (la vraie étiquette). En posant Nc le nombre de classes, la matrice de confusion est une matrice (Nc x Nc) où nous comptons le nombre d'échantillon de test dans chaque catégorie :\n",
    "\n",
    "- Initialisation à 0 : "
   ]
  },
  {
   "cell_type": "code",
   "execution_count": 33,
   "metadata": {
    "collapsed": true
   },
   "outputs": [],
   "source": [
    "conf = np.zeros((26,26))"
   ]
  },
  {
   "cell_type": "markdown",
   "metadata": {},
   "source": [
    "- Pour chaque échantillon, incrément de la case (prediction, vérité)"
   ]
  },
  {
   "cell_type": "code",
   "execution_count": 34,
   "metadata": {
    "collapsed": true
   },
   "outputs": [],
   "source": [
    "#On recrée les variables pour être sûr de ce qu'on a :\n",
    "\n",
    "p = 0.8\n",
    "nbEtats = 20\n",
    "model = []\n",
    "\n",
    "itrain, itest = separeTrainTest(Y, p)\n",
    "ia = []\n",
    "for i in itrain:\n",
    "    ia += i.tolist()    \n",
    "it = []\n",
    "for i in itest:\n",
    "    it += i.tolist()\n",
    "    \n",
    "Ynum = np.zeros(Y.shape)\n",
    "for num, char in enumerate(np.unique(Y)):\n",
    "    Ynum[Y == char] = num\n",
    "\n",
    "Xd = discretise(X, nbEtats)  # application de la discrétisation\n",
    "for cl in range(len(np.unique(Y))): # parcours de toutes les classes et optimisation des modèles\n",
    "    model.append(learnMarkovModelAmeliore(Xd[itrain[cl]], nbEtats))\n",
    "\n",
    "proba = np.array([probasSequence(Xd[i], model) for i in range(Xd.size)])\n",
    "pred = proba.argmax(1) # max ligne par ligne\n",
    "\n",
    "for i in it:\n",
    "    conf[pred[i], int(Ynum[i])] += 1\n"
   ]
  },
  {
   "cell_type": "markdown",
   "metadata": {},
   "source": [
    "- Tracé de la matrice : "
   ]
  },
  {
   "cell_type": "code",
   "execution_count": 35,
   "metadata": {},
   "outputs": [
    {
     "data": {
      "image/png": "[encoded data removed]",
      "text/plain": [
       "<Figure size 432x288 with 2 Axes>"
      ]
     },
     "metadata": {},
     "output_type": "display_data"
    }
   ],
   "source": [
    "plt.figure()\n",
    "plt.imshow(conf, interpolation = 'nearest')\n",
    "plt.colorbar()\n",
    "plt.xticks(np.arange(26), np.unique(Y))\n",
    "plt.yticks(np.arange(26), np.unique(Y))\n",
    "plt.xlabel(u'Vérité terrain')\n",
    "plt.ylabel(u'Prédiction')\n",
    "plt.savefig(\"mat_conf_lettres.png\")\n",
    "plt.show();"
   ]
  },
  {
   "cell_type": "markdown",
   "metadata": {},
   "source": [
    "## Modèle génératif\n",
    "\n",
    "Utiliser les modèles appris pour générer de nouvelles lettres manuscrites.\n",
    "\n",
    "### Tirage selon une loi de probabilité discrète\n",
    "\n",
    "- faire la somme cumulée de la loi {$sc$}\n",
    "- tirer un nombre aléatoire {$t$} entre 0 et 1\n",
    "- trouver la première valeur de {$sc$} qui est supérieure à {$t$}\n",
    "- retourner cet état \n",
    "\n",
    "**Note :** comme vu en cours, tout repose sur la somme cumulée (notée ici `sc$`, calculable en appelant `np.cumsum`. Sur un exemple: la loi `V = [0.2, 0.4, 0.3, 0.1]` a pour somme cumulée `V.cumsum() == [0.2,  0.6,  0.9,  1.0]`\n",
    "\n",
    "### Génération d'une séquence de longueur N\n",
    "\n",
    "- tirer un état {$s_0$} selon Pi\n",
    "- tant que la longueur n'est pas atteinte :\n",
    "  - tirer un état {$s_{t+1}$} selon {$A[s_{t}]$} "
   ]
  },
  {
   "cell_type": "code",
   "execution_count": 41,
   "metadata": {},
   "outputs": [],
   "source": [
    "def generate(pi, a, n):\n",
    "    gen = np.zeros(n)\n",
    "    gen[0] = np.random.choice(pi.size, p = pi)\n",
    "    \n",
    "    for i in range(1, n):\n",
    "        ligne = a[int(gen[i - 1]),:]\n",
    "        gen[i] = np.random.choice(pi.size, p = ligne)\n",
    "    return gen\n",
    "    "
   ]
  },
  {
   "cell_type": "markdown",
   "metadata": {},
   "source": [
    "### Affichage du résultat"
   ]
  },
  {
   "cell_type": "code",
   "execution_count": 70,
   "metadata": {},
   "outputs": [
    {
     "data": {
      "text/plain": [
       "<Figure size 432x288 with 0 Axes>"
      ]
     },
     "metadata": {},
     "output_type": "display_data"
    },
    {
     "data": {
      "image/png": "[encoded data removed]",
      "text/plain": [
       "<Figure size 432x288 with 1 Axes>"
      ]
     },
     "metadata": {},
     "output_type": "display_data"
    }
   ],
   "source": [
    "newa = generate(models[0][0], models[0][1], 20)       # generation d'une séquence d'états\n",
    "intervalle = 360. / d                                 # pour passer des états => valeur d'angles\n",
    "newa_continu = np.array([i * intervalle for i in newa]) # conv int => double\n",
    "tracerLettre(newa_continu)"
   ]
  },
  {
   "cell_type": "code",
   "execution_count": 72,
   "metadata": {},
   "outputs": [
    {
     "data": {
      "text/plain": [
       "<Figure size 432x288 with 0 Axes>"
      ]
     },
     "metadata": {},
     "output_type": "display_data"
    },
    {
     "data": {
      "image/png": "[encoded data removed]",
      "text/plain": [
       "<Figure size 432x288 with 1 Axes>"
      ]
     },
     "metadata": {},
     "output_type": "display_data"
    }
   ],
   "source": [
    "newb = generate(models[1][0], models[1][1], 20)       # generation d'une séquence d'états\n",
    "intervalle = 360. / d                                 # pour passer des états => valeur d'angles\n",
    "newb_continu = np.array([i * intervalle for i in newb]) # conv int => double\n",
    "tracerLettre(newb_continu)"
   ]
  },
  {
   "cell_type": "code",
   "execution_count": null,
   "metadata": {
    "collapsed": true
   },
   "outputs": [],
   "source": []
  }
 ],
 "metadata": {
  "kernelspec": {
   "display_name": "Python 3",
   "language": "python",
   "name": "python3"
  },
  "language_info": {
   "codemirror_mode": {
    "name": "ipython",
    "version": 3
   },
   "file_extension": ".py",
   "mimetype": "text/x-python",
   "name": "python",
   "nbconvert_exporter": "python",
   "pygments_lexer": "ipython3",
   "version": "3.6.2"
  }
 },
 "nbformat": 4,
 "nbformat_minor": 4
}
