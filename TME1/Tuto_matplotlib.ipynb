{
 "cells": [
  {
   "cell_type": "markdown",
   "metadata": {},
   "source": [
    "# Tutoriel sur les fonctions d'affichage"
   ]
  },
  {
   "cell_type": "code",
   "execution_count": null,
   "metadata": {
    "collapsed": true
   },
   "outputs": [],
   "source": [
    "import numpy as np\n",
    "import matplotlib.pyplot as plt\n",
    "# pour avoir toutes les options d'affichage\n",
    "# %matplotlib notebook\n",
    "# OU pour un affichage léger et rapide\n",
    "%matplotlib inline"
   ]
  },
  {
   "cell_type": "markdown",
   "metadata": {},
   "source": [
    "## Affichage d'une liste de coordonnées\n",
    "Soit x et y deux vecteurs de même taille"
   ]
  },
  {
   "cell_type": "code",
   "execution_count": null,
   "metadata": {
    "collapsed": false
   },
   "outputs": [],
   "source": [
    "x = np.linspace(0,10,20)   # 20 points entre 0 et 10\n",
    "y1 = x*x + 2*x             # la fonction a tracer\n",
    "y2 = np.sqrt(x)            # la fonction a tracer\n",
    "\n",
    "plt.figure()               # creation d'une figure\n",
    "plt.plot(x,y1)\n",
    "plt.plot(x,y2)\n",
    "# y2 n'est pas au niveau 0, elle est juste écrasée par y1 en terme d'échelle !\n",
    "\n",
    "# Ajout d'information\n",
    "plt.title('Carrés et racines')\n",
    "plt.xlabel('Axe des x')\n",
    "plt.ylabel('y=f(x)')\n",
    "\n",
    "plt.show()                 # parfois nécessaire en fonction des options déclarées à l'import\n"
   ]
  },
  {
   "cell_type": "markdown",
   "metadata": {},
   "source": [
    "Ajout de légende, de sous fenêtres d'affichage...\n",
    "\n",
    "Le style contient la forme du tracé ainsi que la couleur sous la forme d'un code lettre (r=red, b=blue, ...)"
   ]
  },
  {
   "cell_type": "code",
   "execution_count": null,
   "metadata": {
    "collapsed": false
   },
   "outputs": [],
   "source": [
    "plt.figure()               # creation d'une figure\n",
    "plt.subplot(1,2,1)         # division de la fenetre en une matrice 1x2\n",
    "plt.plot(x,y1,'g--', label='$y = x^2+2x$') # $ pour du code mathématique latex\n",
    "                          # affichage de la courbe + style + etiquette\n",
    "plt.legend(loc=0)\n",
    "plt.subplot(1,2,2)\n",
    "plt.plot(x,y2, 'r*-', label='$y = \\sqrt{x}$')\n",
    "plt.legend(loc=2)          # affichage de la légende en haut a gauche\n",
    "plt.show()                 # affichage de la fenetre"
   ]
  },
  {
   "cell_type": "markdown",
   "metadata": {},
   "source": [
    "## Affichage d'un nuage de points"
   ]
  },
  {
   "cell_type": "code",
   "execution_count": null,
   "metadata": {
    "collapsed": false
   },
   "outputs": [],
   "source": [
    "# commande basique = plot + options\n",
    "x = np.linspace(0,5,50)\n",
    "y = x*x + 2*x\n",
    "yb = y + np.random.randn(x.shape[0]) *3            # la fonction a tracer\n",
    "\n",
    "plt.figure()               # creation d'une figure\n",
    "plt.plot(x,yb, '+')        # simple ajout d'une fonction de style\n",
    "\n",
    "# fonction dédiée = scatter\n",
    "\n",
    "plt.figure()               # creation d'une figure\n",
    "plt.scatter(x,yb, 20 - (y-yb)**2) # jouer avec le rayon des points du nuage\n",
    "\n",
    "plt.figure()               # creation d'une figure\n",
    "plt.scatter(x,yb, c = np.abs(y-yb )) # jouer avec les couleurs des points du nuage"
   ]
  },
  {
   "cell_type": "markdown",
   "metadata": {},
   "source": [
    "## Affichage d'une matrice\n",
    "\n",
    "Dans le cadre du travail avec les librairies numpy et cie, nous manipulons des matrices pas évidentes à explorer. La meilleure solution est souvent de les afficher sous forme d'image.\n",
    "\n",
    "C'est un outil que l'on utilise beaucoup, il faut être à l'aise avec. Pour ajouter des informations, on recours à la modification des axes (2ème exemple)."
   ]
  },
  {
   "cell_type": "code",
   "execution_count": null,
   "metadata": {
    "collapsed": false
   },
   "outputs": [],
   "source": [
    "C = np.random.rand(5,10)     # grosse matrice\n",
    "plt.figure()\n",
    "plt.imshow(C, interpolation='nearest')                # affichage sour forme d'image\n",
    "                             # les couleurs correspondent aux valeurs\n",
    "plt.colorbar()               # legende \n",
    "plt.show()"
   ]
  },
  {
   "cell_type": "code",
   "execution_count": null,
   "metadata": {
    "collapsed": false
   },
   "outputs": [],
   "source": [
    "# affichage avancé avec modification des axes\n",
    "\n",
    "fig, ax = plt.subplots(1,1)                  # pour avoir un pointeur vers les axes\n",
    "ax.imshow(C, interpolation='nearest')        # meme matrice que ci-dessus\n",
    "ax.set_xticks(np.arange(C.shape[1]))       # un texte pour chaque colonne\n",
    "txts = ['Champ 1', 'e2', 'lab 3', 'catégorie 4', 'Champ 5', 'e6', 'lab 7', 'c8', 'c9', 'c10']\n",
    "ax.set_xticklabels(txts,rotation=60,fontsize=8)\n",
    "plt.show()"
   ]
  },
  {
   "cell_type": "markdown",
   "metadata": {},
   "source": [
    "## Calcul d'histogramme (et affichage)\n",
    "\n",
    "Les histogrammes constituent un outil de base pour l'analyse de données, il ne faut pas se contenter des options de base. Vous devez impérativement jouer avec.\n",
    "- Faire varier le nombre de *bins*, voire définir vous-même les intervalles d'analyse\n",
    "- Bien distinguer l'histogramme de comptage et l'estimation de la distribution de probabilité (sommant à 1)"
   ]
  },
  {
   "cell_type": "code",
   "execution_count": null,
   "metadata": {
    "collapsed": false
   },
   "outputs": [],
   "source": [
    "a = np.random.randn(1000)\n",
    "plt.figure()\n",
    "plt.hist(a)                     # 10 catégories par défaut"
   ]
  },
  {
   "cell_type": "markdown",
   "metadata": {
    "collapsed": true
   },
   "source": [
    "## Sauvegarde des figures\n",
    "\n",
    "La sauvegarde des figures est essentielle pour:\n",
    "- la création de rapport\n",
    "- l'analyse détaillée de certaines zones qui nécessitent de zoomer plus efficacement que dans une interface jupyter\n",
    "\n",
    "Dans tous les cas, privilégiez un format de sauvegarde vectoriel qui permet donc des zooms à l'infini et une qualité meilleure dans les rapports"
   ]
  },
  {
   "cell_type": "code",
   "execution_count": null,
   "metadata": {
    "collapsed": true
   },
   "outputs": [],
   "source": [
    "plt.savefig('monfichier.pdf') # sauvegarde de l'image courant (c'est pour ça qu'il n'y a pas d'argument spécifique!)"
   ]
  },
  {
   "cell_type": "markdown",
   "metadata": {},
   "source": [
    "## Sélection des points à afficher\n",
    "\n",
    "Combinaison d'usage entre les fonctions de recherche et les fonctions d'affichage"
   ]
  },
  {
   "cell_type": "code",
   "execution_count": null,
   "metadata": {
    "collapsed": false
   },
   "outputs": [],
   "source": [
    "# génération des points de la classe 1 & 2\n",
    "N=100\n",
    "x = np.vstack((np.random.randn(N,2)+2,np.random.randn(N,2)-2)) # données 2D\n",
    "y = np.ones(2*N) # étiquettes\n",
    "y[:N] = -1\n",
    "\n",
    "# comment afficher chaque classe d'une couleur???\n",
    "\n",
    "# solution 1\n",
    "ind1 = np.where(y==1) \n",
    "ind2 = np.where(y==-1)\n",
    "plt.figure()\n",
    "plt.plot(x[ind1, 0],x[ind1, 1], 'b+') # aff en croix bleues\n",
    "plt.plot(x[ind2, 0],x[ind2, 1], 'r*') # aff en étoiles rouges\n",
    "plt.show()\n",
    "\n",
    "# solution 2: version rapide\n",
    "plt.figure()\n",
    "plt.plot(x[y==1, 0],x[y==1, 1], 'b+') # aff en croix bleues\n",
    "plt.plot(x[y==-1, 0],x[y==-1, 1], 'r*') # aff en étoiles rouges\n",
    "\n",
    "# solution 3: version maline: le code couleur peut etre un chiffre dans scatter!\n",
    "plt.figure()\n",
    "plt.scatter(x[:,0], x[:,1], c=y)"
   ]
  },
  {
   "cell_type": "markdown",
   "metadata": {},
   "source": [
    "# Exercice d'application\n",
    "\n",
    "## Affichage sur des données INSEE sur le salaire en fonction du diplôme et du sexe\n",
    "\n",
    "Données brutes disponibles : http://www.insee.fr/\n",
    "Données mises en forme: http://mapsi.lip6.fr/uploads/Main/salaire2010INSEE.csv\n",
    "\n",
    "**Correspondances des lignes:**\n",
    " - Aucun ou Certificat d’études primaires\n",
    " - Brevet des collèges\n",
    " - CAP ou BEP\n",
    " - Baccalauréat\n",
    " - IUT, BTS, diplôme de 1er cycle universitaire (DEUG, L1, L2) ou diplôme équivalent\n",
    " - Diplôme supérieur à Baccalauréat +2\n",
    " - Diplôme de 2ème ou 3ème cycle universitaire\n",
    " - Diplôme d'une grande école (ingénieur, commerce)\n",
    " \n",
    "**Correspondances des colonnes:**\n",
    " - Moyenne des heures travaillées\n",
    " - Salaire horaire\n",
    "Les 2 colonnes sont répétées 3 fois: Ensemble de la population / Femmes / Homme\n",
    "\n",
    "Code de chargement des données:\n",
    "```python\n",
    "import numpy as np\n",
    "data = np.loadtxt(\"dataSalaire.csv\", delimiter=';')\n",
    "```\n",
    "\n",
    "## Questions\n",
    "\n",
    "A l'aide de la méthode scatter, tracer les salaires moyens en fonction des diplômes pour:\n",
    " - L'ensemble de la population (en vert)\n",
    " - Les femmes (en rose -n'ayons pas peur des clichés-)\n",
    " - Les hommes (en bleu)\n",
    " \n",
    "Ajouter des titres sur les axes (xlabel, ylabel)\n",
    "Modifier l'axe des x pour afficher le diplôme avec le vecteur de textes suivant:\n",
    "```python\n",
    "diplomes = [\"Aucun\", \"BEPC\", \"CAP/BEP\", \"Bac\", \"IUT, BTS, DEUG\", \">Bac+2\", \"Master/Phd\", \"Ecole Ing/com\"]\n",
    "```\n"
   ]
  },
  {
   "cell_type": "code",
   "execution_count": null,
   "metadata": {
    "collapsed": true
   },
   "outputs": [],
   "source": []
  }
 ],
 "metadata": {
  "kernelspec": {
   "display_name": "Python 3",
   "language": "python",
   "name": "python3"
  },
  "language_info": {
   "codemirror_mode": {
    "name": "ipython",
    "version": 3
   },
   "file_extension": ".py",
   "mimetype": "text/x-python",
   "name": "python",
   "nbconvert_exporter": "python",
   "pygments_lexer": "ipython3",
   "version": "3.6.0"
  }
 },
 "nbformat": 4,
 "nbformat_minor": 2
}
