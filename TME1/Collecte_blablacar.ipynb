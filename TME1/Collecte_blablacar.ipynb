{
 "cells": [
  {
   "cell_type": "code",
   "execution_count": null,
   "metadata": {
    "collapsed": true
   },
   "outputs": [],
   "source": [
    "# tous les imports\n",
    "import numpy as np\n",
    "import re\n",
    "import matplotlib.pyplot as plt\n",
    "import requests\n",
    "import pickle as pkl\n",
    "import time\n",
    "\n",
    "import datetime"
   ]
  },
  {
   "cell_type": "markdown",
   "metadata": {},
   "source": [
    "# Compréhension du format de l'API blablacar"
   ]
  },
  {
   "cell_type": "code",
   "execution_count": null,
   "metadata": {
    "collapsed": false
   },
   "outputs": [],
   "source": [
    "key = ... # demander une clé sur le site et la mettre ici\n",
    "\n",
    "req = \"https://public-api.blablacar.com/api/v2/trips?key=\"+key+\"&fn=Paris&limit=100\"\n",
    "dataStation = requests.get(req)\n",
    "\n",
    "len(dataStation.json())\n",
    "\n",
    "# dict_keys(['links', 'pager', 'trips', 'top_trips', 'facets', 'lowest_price', 'lowest_price_object', \n",
    "#'full_trips_count', 'total_trip_count_to_display', 'sorting_algorithm', 'has_bus'])\n",
    "\n",
    "print(dataStation.json()['pager']['pages'])\n",
    "#\n",
    "u = dataStation.json()['trips']\n",
    "print(len(u))\n",
    "print(u[0])\n",
    "#for u in dataStation.json():\n",
    "#    print"
   ]
  },
  {
   "cell_type": "markdown",
   "metadata": {},
   "source": [
    "# Collecte des données\n",
    "Une fois le format de l'API à peu près cerné, on lance la collecte des données sur 7 villes"
   ]
  },
  {
   "cell_type": "code",
   "execution_count": null,
   "metadata": {
    "collapsed": false
   },
   "outputs": [],
   "source": [
    "# formulation des requetes:\n",
    "villes = ['Paris', 'Marseille', 'Grenoble', 'Lille', 'Strasbourg', 'Nantes', 'Bordeaux']\n",
    "\n",
    "# il faut mettre une cle valide à la place de KEY\n",
    "urlbase = \"https://public-api.blablacar.com/api/v2/trips?\"\n",
    "\n",
    "# clé déjà renseignée plus haut\n",
    "data = []\n",
    "cpt = 0\n",
    "for v in villes:\n",
    "    # requête fantome pour récupérer le nombre de pages de résultats\n",
    "    req = urlbase+\"key=\"+key+\"&fn=\"+v+\"&limit=100\"\n",
    "    dataStation = requests.get(req)\n",
    "    npages = dataStation.json()['pager']['pages']\n",
    "    print(\"Ville = \" + v + \" npages = \" + str(npages))\n",
    "    for p in range(npages):\n",
    "            cpt += 1\n",
    "            req = urlbase+\"key=\"+key+\"&fn=\"+v+\"&limit=100&page=\"+str(p+1)\n",
    "            print(req)\n",
    "            dataStation = requests.get(req)\n",
    "            tmp = dataStation.json()\n",
    "            data.append(tmp)\n",
    "            time.sleep(1)\n",
    "            #print(tmp)\n",
    "\n",
    "# sauvegarde brute\n",
    "pkl.dump(data, open('blablacar.pkl', 'wb'))\n",
    "\n",
    "print(cpt)  "
   ]
  },
  {
   "cell_type": "code",
   "execution_count": null,
   "metadata": {
    "collapsed": true
   },
   "outputs": [],
   "source": [
    "# Fonction pour aplatir un json\n",
    "# NB: panda fait ça très bien... Mais c'est nul panda :)\n",
    "def applatir(d):\n",
    "    res = dict()\n",
    "    for k,v in d.items():\n",
    "        if type(v) == dict:\n",
    "            tmp = applatir(v)\n",
    "            for kk,vv in tmp.items():\n",
    "                res[k+\".\"+kk]=vv\n",
    "        else: res[k]=v\n",
    "    return res"
   ]
  },
  {
   "cell_type": "code",
   "execution_count": null,
   "metadata": {
    "collapsed": false
   },
   "outputs": [],
   "source": [
    "# traitement/filtrage des données récoltées\n",
    "\n",
    "# liste des clés intéressantes pour moi:\n",
    "keys = ['departure_date',\\\n",
    "        'departure_place.city_name', 'departure_place.latitude', 'departure_place.longitude',\\\n",
    "        'departure_meeting_point.city_name','departure_meeting_point.latitude', 'departure_meeting_point.longitude',\n",
    "        'arrival_place.city_name', 'arrival_place.latitude', 'arrival_place.longitude', 'price.value',\\\n",
    "       'car.make', 'car.comfort_nb_star', 'distance.value']\n",
    "\n",
    "d = pkl.load(open('blablacar.pkl', 'rb'))\n",
    "\n",
    "ppdb = []\n",
    "\n",
    "for r in d:\n",
    "    trips = r['trips']\n",
    "    for t in trips:\n",
    "        ft = applatir(t)\n",
    "        trips_red = [ft.get(k,'unknown') for k in keys]\n",
    "        ppdb.append(trips_red)\n",
    "print(d[0])"
   ]
  },
  {
   "cell_type": "code",
   "execution_count": null,
   "metadata": {
    "collapsed": false
   },
   "outputs": [],
   "source": [
    "# traitement phase 2: reécupération des dates, indexation des villes...\n",
    "\n",
    "ppdba = np.array(ppdb)\n",
    "villes = set(ppdba[:,1]).union(set(ppdba[:,4])).union(set(ppdba[:,7]))\n",
    "villes = dict({(key,idx) for idx, key in enumerate(villes)})\n",
    "marques = dict({(key,idx) for idx, key in enumerate(set(ppdba[:,11]))})\n",
    "pp2db = []\n",
    "\n",
    "for i,t in enumerate(ppdb):\n",
    "    date_time_obj = datetime.datetime.strptime(t[0],'%d/%m/%Y %H:%M:%S')\n",
    "    tmp = [date_time_obj.year, date_time_obj.month, date_time_obj.day, date_time_obj.hour]\n",
    "    tmp +=  [villes[t[1]], villes[t[7]]]\n",
    "    tmp +=  t[2:4]\n",
    "    #tmp +=  t[5:7]\n",
    "    tmp += t[8:11]\n",
    "    tmp += [marques[t[-3]]]\n",
    "    if t[-2] == 'unknown':\n",
    "        tmp += [-1]\n",
    "    else:\n",
    "        tmp += [t[-2]]\n",
    "    tmp += [t[-1]]\n",
    "    pp2db.append(tmp)\n",
    "    #if i==5:\n",
    "    #    break\n",
    "print(date_time_obj.year)\n",
    "print(marques)\n",
    "pp2db = np.array(pp2db)\n",
    "#print(pp2db)"
   ]
  },
  {
   "cell_type": "code",
   "execution_count": null,
   "metadata": {
    "collapsed": false
   },
   "outputs": [],
   "source": [
    "print(ppdb[0])\n",
    "print(pp2db)"
   ]
  },
  {
   "cell_type": "code",
   "execution_count": null,
   "metadata": {
    "collapsed": false
   },
   "outputs": [],
   "source": [
    "cols = ['annee', 'mois', 'jour', 'heure', 'dep_ville' ,'arr_ville' ,'dep_coord_x','dep_coord_y',\\\n",
    "        'arr_coord_x','arr_coord_y', 'prix', 'marque', 'stars_confort', 'distance']\n",
    "\n",
    "pkl.dump({'indexcol': cols , 'data':pp2db, 'villes': villes, 'marques':marques }, open('blablacar_pp.pkl', 'wb'))"
   ]
  },
  {
   "cell_type": "code",
   "execution_count": null,
   "metadata": {
    "collapsed": true
   },
   "outputs": [],
   "source": []
  }
 ],
 "metadata": {
  "kernelspec": {
   "display_name": "Python 3",
   "language": "python",
   "name": "python3"
  },
  "language_info": {
   "codemirror_mode": {
    "name": "ipython",
    "version": 3
   },
   "file_extension": ".py",
   "mimetype": "text/x-python",
   "name": "python",
   "nbconvert_exporter": "python",
   "pygments_lexer": "ipython3",
   "version": "3.6.0"
  }
 },
 "nbformat": 4,
 "nbformat_minor": 2
}
